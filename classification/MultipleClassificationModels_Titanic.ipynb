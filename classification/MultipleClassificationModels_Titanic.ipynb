{
 "cells": [
  {
   "cell_type": "code",
   "execution_count": 1,
   "metadata": {
    "collapsed": true
   },
   "outputs": [],
   "source": [
    "import pandas as pd\n",
    "import numpy as np\n",
    "\n",
    "from sklearn.model_selection import train_test_split\n",
    "from sklearn.metrics import accuracy_score, precision_score, recall_score\n",
    "\n",
    "from sklearn.linear_model import LogisticRegression, SGDClassifier\n",
    "from sklearn.discriminant_analysis import  LinearDiscriminantAnalysis, QuadraticDiscriminantAnalysis\n",
    "from sklearn.svm import LinearSVC\n",
    "from sklearn.neighbors import RadiusNeighborsClassifier\n",
    "from sklearn.naive_bayes import GaussianNB\n",
    "from sklearn.tree import DecisionTreeClassifier"
   ]
  },
  {
   "cell_type": "code",
   "execution_count": 2,
   "outputs": [
    {
     "data": {
      "text/plain": "['Pclass',\n 'Sex',\n 'Age',\n 'SibSp',\n 'Parch',\n 'Fare',\n 'Embarked_C',\n 'Embarked_Q',\n 'Embarked_S']"
     },
     "execution_count": 2,
     "metadata": {},
     "output_type": "execute_result"
    }
   ],
   "source": [
    "titanic_df = pd.read_csv('datasets/titanic_processed.csv')\n",
    "FEATURES = list(titanic_df.columns[1:])\n",
    "FEATURES"
   ],
   "metadata": {
    "collapsed": false
   }
  },
  {
   "cell_type": "code",
   "execution_count": 3,
   "outputs": [],
   "source": [
    "result_dict = {}"
   ],
   "metadata": {
    "collapsed": false
   }
  },
  {
   "cell_type": "code",
   "execution_count": 4,
   "outputs": [],
   "source": [
    "def summarize_classification(y_test, y_pred):\n",
    "    acc = accuracy_score(y_test, y_pred, normalize=True)\n",
    "    num_acc = accuracy_score(y_test, y_pred, normalize=False)\n",
    "\n",
    "    prec = precision_score(y_test, y_pred)\n",
    "    recall = recall_score(y_test, y_pred)\n",
    "\n",
    "    return {'accuracy': acc, 'precision': prec, 'recall': recall, 'accuracy_count': num_acc}"
   ],
   "metadata": {
    "collapsed": false
   }
  },
  {
   "cell_type": "code",
   "execution_count": 6,
   "outputs": [],
   "source": [
    "def build_model(classifier_fn, name_of_y_col, name_of_x_cols, dataset, test_frac=0.2):\n",
    "    X = dataset[name_of_x_cols]\n",
    "    Y = dataset[name_of_y_col]\n",
    "\n",
    "    x_train, x_test, y_train, y_test = train_test_split(X, Y, test_size=test_frac)\n",
    "\n",
    "    model = classifier_fn(x_train, y_train)\n",
    "\n",
    "    y_pred = model.predict(x_test)\n",
    "    y_pred_train = model.predict(x_train)\n",
    "\n",
    "    train_summary = summarize_classification(y_train, y_pred_train)\n",
    "    test_summary = summarize_classification(y_test, y_pred)\n",
    "\n",
    "    pred_results = pd.DataFrame({'y_test': y_test, 'y_pred': y_pred})\n",
    "\n",
    "    model_crosstab = pd.crosstab(pred_results.y_pred, pred_results.y_test)\n",
    "\n",
    "    return {'training': train_summary, 'test': test_summary, 'confusion_matrix': model_crosstab}"
   ],
   "metadata": {
    "collapsed": false
   }
  },
  {
   "cell_type": "code",
   "execution_count": 7,
   "outputs": [],
   "source": [
    "def compare_results():\n",
    "    for key in result_dict:\n",
    "        print('Classification: ', key, '\\n')\n",
    "\n",
    "        print('Training data')\n",
    "        for score in result_dict[key]['training']:\n",
    "            print(score, result_dict[key]['training'][score])\n",
    "\n",
    "        print()\n",
    "        print('Test data')\n",
    "        for score in result_dict[key]['test']:\n",
    "            print(score, result_dict[key]['test'][score])\n",
    "\n",
    "        print()"
   ],
   "metadata": {
    "collapsed": false
   }
  },
  {
   "cell_type": "code",
   "execution_count": 8,
   "outputs": [],
   "source": [
    "def logistic_fn(x_train, y_train):\n",
    "    model = LogisticRegression(solver='liblinear')\n",
    "    model.fit(x_train, y_train)\n",
    "    return model"
   ],
   "metadata": {
    "collapsed": false
   }
  },
  {
   "cell_type": "code",
   "execution_count": 11,
   "outputs": [
    {
     "name": "stdout",
     "output_type": "stream",
     "text": [
      "Classification:  survived - logistic \n",
      "\n",
      "Training data\n",
      "accuracy 0.7996485061511424\n",
      "precision 0.7828282828282829\n",
      "recall 0.6858407079646017\n",
      "accuracy_count 455\n",
      "\n",
      "Test data\n",
      "accuracy 0.7552447552447552\n",
      "precision 0.7755102040816326\n",
      "recall 0.6129032258064516\n",
      "accuracy_count 108\n",
      "\n"
     ]
    }
   ],
   "source": [
    "result_dict['survived - logistic'] = build_model(logistic_fn, 'Survived', FEATURES, titanic_df)\n",
    "compare_results()"
   ],
   "metadata": {
    "collapsed": false
   }
  },
  {
   "cell_type": "code",
   "execution_count": 13,
   "outputs": [],
   "source": [
    "def linear_discriminant_fn(x_train, y_train, solver='svd'):\n",
    "    model = LinearDiscriminantAnalysis(solver=solver)\n",
    "    model.fit(x_train, y_train)\n",
    "    return model"
   ],
   "metadata": {
    "collapsed": false
   }
  },
  {
   "cell_type": "code",
   "execution_count": 15,
   "outputs": [
    {
     "name": "stdout",
     "output_type": "stream",
     "text": [
      "Classification:  survived - logistic \n",
      "\n",
      "Training data\n",
      "accuracy 0.7996485061511424\n",
      "precision 0.7828282828282829\n",
      "recall 0.6858407079646017\n",
      "accuracy_count 455\n",
      "\n",
      "Test data\n",
      "accuracy 0.7552447552447552\n",
      "precision 0.7755102040816326\n",
      "recall 0.6129032258064516\n",
      "accuracy_count 108\n",
      "\n",
      "Classification:  survived - linear_discriminant_analysis \n",
      "\n",
      "Training data\n",
      "accuracy 0.804920913884007\n",
      "precision 0.7746478873239436\n",
      "recall 0.7236842105263158\n",
      "accuracy_count 458\n",
      "\n",
      "Test data\n",
      "accuracy 0.7692307692307693\n",
      "precision 0.7547169811320755\n",
      "recall 0.6666666666666666\n",
      "accuracy_count 110\n",
      "\n"
     ]
    }
   ],
   "source": [
    "result_dict['survived - linear_discriminant_analysis'] = build_model(linear_discriminant_fn, 'Survived', FEATURES[0:-1], titanic_df)\n",
    "compare_results()"
   ],
   "metadata": {
    "collapsed": false
   }
  },
  {
   "cell_type": "code",
   "execution_count": 17,
   "outputs": [],
   "source": [
    "def quadratic_discriminant_analysis_fn(x_train, y_train):\n",
    "    model = QuadraticDiscriminantAnalysis()\n",
    "    model.fit(x_train, y_train)\n",
    "    return model"
   ],
   "metadata": {
    "collapsed": false
   }
  },
  {
   "cell_type": "code",
   "execution_count": 18,
   "outputs": [
    {
     "name": "stdout",
     "output_type": "stream",
     "text": [
      "Classification:  survived - logistic \n",
      "\n",
      "Training data\n",
      "accuracy 0.7996485061511424\n",
      "precision 0.7828282828282829\n",
      "recall 0.6858407079646017\n",
      "accuracy_count 455\n",
      "\n",
      "Test data\n",
      "accuracy 0.7552447552447552\n",
      "precision 0.7755102040816326\n",
      "recall 0.6129032258064516\n",
      "accuracy_count 108\n",
      "\n",
      "Classification:  survived - linear_discriminant_analysis \n",
      "\n",
      "Training data\n",
      "accuracy 0.804920913884007\n",
      "precision 0.7746478873239436\n",
      "recall 0.7236842105263158\n",
      "accuracy_count 458\n",
      "\n",
      "Test data\n",
      "accuracy 0.7692307692307693\n",
      "precision 0.7547169811320755\n",
      "recall 0.6666666666666666\n",
      "accuracy_count 110\n",
      "\n",
      "Classification:  survived - quadratic_discriminant_analysis \n",
      "\n",
      "Training data\n",
      "accuracy 0.8031634446397188\n",
      "precision 0.7934272300469484\n",
      "recall 0.7130801687763713\n",
      "accuracy_count 457\n",
      "\n",
      "Test data\n",
      "accuracy 0.7902097902097902\n",
      "precision 0.6981132075471698\n",
      "recall 0.7254901960784313\n",
      "accuracy_count 113\n",
      "\n"
     ]
    }
   ],
   "source": [
    "result_dict['survived - quadratic_discriminant_analysis'] = build_model(quadratic_discriminant_analysis_fn, 'Survived', FEATURES[0:-1], titanic_df)\n",
    "compare_results()"
   ],
   "metadata": {
    "collapsed": false
   }
  },
  {
   "cell_type": "code",
   "execution_count": 24,
   "outputs": [],
   "source": [
    "def sgd_fn(x_train, y_train, max_iter=10000, tol=1e-3):\n",
    "    model = SGDClassifier(max_iter=max_iter, tol=tol)\n",
    "    model.fit(x_train, y_train)\n",
    "    return model"
   ],
   "metadata": {
    "collapsed": false
   }
  },
  {
   "cell_type": "code",
   "execution_count": 25,
   "outputs": [
    {
     "name": "stdout",
     "output_type": "stream",
     "text": [
      "Classification:  survived - logistic \n",
      "\n",
      "Training data\n",
      "accuracy 0.7996485061511424\n",
      "precision 0.7828282828282829\n",
      "recall 0.6858407079646017\n",
      "accuracy_count 455\n",
      "\n",
      "Test data\n",
      "accuracy 0.7552447552447552\n",
      "precision 0.7755102040816326\n",
      "recall 0.6129032258064516\n",
      "accuracy_count 108\n",
      "\n",
      "Classification:  survived - linear_discriminant_analysis \n",
      "\n",
      "Training data\n",
      "accuracy 0.804920913884007\n",
      "precision 0.7746478873239436\n",
      "recall 0.7236842105263158\n",
      "accuracy_count 458\n",
      "\n",
      "Test data\n",
      "accuracy 0.7692307692307693\n",
      "precision 0.7547169811320755\n",
      "recall 0.6666666666666666\n",
      "accuracy_count 110\n",
      "\n",
      "Classification:  survived - quadratic_discriminant_analysis \n",
      "\n",
      "Training data\n",
      "accuracy 0.8031634446397188\n",
      "precision 0.7934272300469484\n",
      "recall 0.7130801687763713\n",
      "accuracy_count 457\n",
      "\n",
      "Test data\n",
      "accuracy 0.7902097902097902\n",
      "precision 0.6981132075471698\n",
      "recall 0.7254901960784313\n",
      "accuracy_count 113\n",
      "\n",
      "Classification:  survived - sgd \n",
      "\n",
      "Training data\n",
      "accuracy 0.6731107205623902\n",
      "precision 0.5502793296089385\n",
      "recall 0.8873873873873874\n",
      "accuracy_count 383\n",
      "\n",
      "Test data\n",
      "accuracy 0.6643356643356644\n",
      "precision 0.5882352941176471\n",
      "recall 0.9090909090909091\n",
      "accuracy_count 95\n",
      "\n"
     ]
    }
   ],
   "source": [
    "result_dict['survived - sgd'] = build_model(sgd_fn, 'Survived', FEATURES, titanic_df)\n",
    "compare_results()"
   ],
   "metadata": {
    "collapsed": false
   }
  },
  {
   "cell_type": "code",
   "execution_count": 26,
   "outputs": [],
   "source": [
    "def svm_fn(x_train, y_train, C=1.0, max_iter=1000, tol=1e-3):\n",
    "    model = LinearSVC(C=C, max_iter=max_iter, tol=tol, dual=False)\n",
    "    model.fit(x_train, y_train)\n",
    "    return model"
   ],
   "metadata": {
    "collapsed": false
   }
  },
  {
   "cell_type": "code",
   "execution_count": 27,
   "outputs": [
    {
     "name": "stdout",
     "output_type": "stream",
     "text": [
      "Classification:  survived - logistic \n",
      "\n",
      "Training data\n",
      "accuracy 0.7996485061511424\n",
      "precision 0.7828282828282829\n",
      "recall 0.6858407079646017\n",
      "accuracy_count 455\n",
      "\n",
      "Test data\n",
      "accuracy 0.7552447552447552\n",
      "precision 0.7755102040816326\n",
      "recall 0.6129032258064516\n",
      "accuracy_count 108\n",
      "\n",
      "Classification:  survived - linear_discriminant_analysis \n",
      "\n",
      "Training data\n",
      "accuracy 0.804920913884007\n",
      "precision 0.7746478873239436\n",
      "recall 0.7236842105263158\n",
      "accuracy_count 458\n",
      "\n",
      "Test data\n",
      "accuracy 0.7692307692307693\n",
      "precision 0.7547169811320755\n",
      "recall 0.6666666666666666\n",
      "accuracy_count 110\n",
      "\n",
      "Classification:  survived - quadratic_discriminant_analysis \n",
      "\n",
      "Training data\n",
      "accuracy 0.8031634446397188\n",
      "precision 0.7934272300469484\n",
      "recall 0.7130801687763713\n",
      "accuracy_count 457\n",
      "\n",
      "Test data\n",
      "accuracy 0.7902097902097902\n",
      "precision 0.6981132075471698\n",
      "recall 0.7254901960784313\n",
      "accuracy_count 113\n",
      "\n",
      "Classification:  survived - sgd \n",
      "\n",
      "Training data\n",
      "accuracy 0.6731107205623902\n",
      "precision 0.5502793296089385\n",
      "recall 0.8873873873873874\n",
      "accuracy_count 383\n",
      "\n",
      "Test data\n",
      "accuracy 0.6643356643356644\n",
      "precision 0.5882352941176471\n",
      "recall 0.9090909090909091\n",
      "accuracy_count 95\n",
      "\n",
      "Classification:  survived - svm \n",
      "\n",
      "Training data\n",
      "accuracy 0.8014059753954306\n",
      "precision 0.7692307692307693\n",
      "recall 0.7111111111111111\n",
      "accuracy_count 456\n",
      "\n",
      "Test data\n",
      "accuracy 0.7832167832167832\n",
      "precision 0.8478260869565217\n",
      "recall 0.6190476190476191\n",
      "accuracy_count 112\n",
      "\n"
     ]
    }
   ],
   "source": [
    "result_dict['survived - svm'] = build_model(svm_fn, 'Survived', FEATURES, titanic_df)\n",
    "compare_results()"
   ],
   "metadata": {
    "collapsed": false
   }
  },
  {
   "cell_type": "code",
   "execution_count": 29,
   "outputs": [],
   "source": [
    "def radius_neighbor_fn(x_train, y_train, radius=40.0):\n",
    "    model = RadiusNeighborsClassifier(radius=radius)\n",
    "    model.fit(x_train, y_train)\n",
    "    return model"
   ],
   "metadata": {
    "collapsed": false
   }
  },
  {
   "cell_type": "code",
   "execution_count": 31,
   "outputs": [
    {
     "name": "stdout",
     "output_type": "stream",
     "text": [
      "Classification:  survived - logistic \n",
      "\n",
      "Training data\n",
      "accuracy 0.7996485061511424\n",
      "precision 0.7828282828282829\n",
      "recall 0.6858407079646017\n",
      "accuracy_count 455\n",
      "\n",
      "Test data\n",
      "accuracy 0.7552447552447552\n",
      "precision 0.7755102040816326\n",
      "recall 0.6129032258064516\n",
      "accuracy_count 108\n",
      "\n",
      "Classification:  survived - linear_discriminant_analysis \n",
      "\n",
      "Training data\n",
      "accuracy 0.804920913884007\n",
      "precision 0.7746478873239436\n",
      "recall 0.7236842105263158\n",
      "accuracy_count 458\n",
      "\n",
      "Test data\n",
      "accuracy 0.7692307692307693\n",
      "precision 0.7547169811320755\n",
      "recall 0.6666666666666666\n",
      "accuracy_count 110\n",
      "\n",
      "Classification:  survived - quadratic_discriminant_analysis \n",
      "\n",
      "Training data\n",
      "accuracy 0.8031634446397188\n",
      "precision 0.7934272300469484\n",
      "recall 0.7130801687763713\n",
      "accuracy_count 457\n",
      "\n",
      "Test data\n",
      "accuracy 0.7902097902097902\n",
      "precision 0.6981132075471698\n",
      "recall 0.7254901960784313\n",
      "accuracy_count 113\n",
      "\n",
      "Classification:  survived - sgd \n",
      "\n",
      "Training data\n",
      "accuracy 0.6731107205623902\n",
      "precision 0.5502793296089385\n",
      "recall 0.8873873873873874\n",
      "accuracy_count 383\n",
      "\n",
      "Test data\n",
      "accuracy 0.6643356643356644\n",
      "precision 0.5882352941176471\n",
      "recall 0.9090909090909091\n",
      "accuracy_count 95\n",
      "\n",
      "Classification:  survived - svm \n",
      "\n",
      "Training data\n",
      "accuracy 0.8014059753954306\n",
      "precision 0.7692307692307693\n",
      "recall 0.7111111111111111\n",
      "accuracy_count 456\n",
      "\n",
      "Test data\n",
      "accuracy 0.7832167832167832\n",
      "precision 0.8478260869565217\n",
      "recall 0.6190476190476191\n",
      "accuracy_count 112\n",
      "\n",
      "Classification:  survived - knn \n",
      "\n",
      "Training data\n",
      "accuracy 0.6731107205623902\n",
      "precision 0.7340425531914894\n",
      "recall 0.3\n",
      "accuracy_count 383\n",
      "\n",
      "Test data\n",
      "accuracy 0.6573426573426573\n",
      "precision 0.6666666666666666\n",
      "recall 0.3103448275862069\n",
      "accuracy_count 94\n",
      "\n",
      "Classification:  survived - radius nn \n",
      "\n",
      "Training data\n",
      "accuracy 0.6625659050966608\n",
      "precision 0.7272727272727273\n",
      "recall 0.3037974683544304\n",
      "accuracy_count 377\n",
      "\n",
      "Test data\n",
      "accuracy 0.7062937062937062\n",
      "precision 0.6956521739130435\n",
      "recall 0.3137254901960784\n",
      "accuracy_count 101\n",
      "\n"
     ]
    }
   ],
   "source": [
    "result_dict['survived - radius nn'] = build_model(radius_neighbor_fn, 'Survived', FEATURES, titanic_df)\n",
    "compare_results()"
   ],
   "metadata": {
    "collapsed": false
   }
  },
  {
   "cell_type": "code",
   "execution_count": 32,
   "outputs": [],
   "source": [
    "def decision_tree_fn(x_train, y_train, max_depth=None, max_features=None):\n",
    "    model = DecisionTreeClassifier(max_depth=max_depth, max_features=max_features)\n",
    "    model.fit(x_train, y_train)\n",
    "    return model"
   ],
   "metadata": {
    "collapsed": false
   }
  },
  {
   "cell_type": "code",
   "execution_count": 33,
   "outputs": [
    {
     "name": "stdout",
     "output_type": "stream",
     "text": [
      "Classification:  survived - logistic \n",
      "\n",
      "Training data\n",
      "accuracy 0.7996485061511424\n",
      "precision 0.7828282828282829\n",
      "recall 0.6858407079646017\n",
      "accuracy_count 455\n",
      "\n",
      "Test data\n",
      "accuracy 0.7552447552447552\n",
      "precision 0.7755102040816326\n",
      "recall 0.6129032258064516\n",
      "accuracy_count 108\n",
      "\n",
      "Classification:  survived - linear_discriminant_analysis \n",
      "\n",
      "Training data\n",
      "accuracy 0.804920913884007\n",
      "precision 0.7746478873239436\n",
      "recall 0.7236842105263158\n",
      "accuracy_count 458\n",
      "\n",
      "Test data\n",
      "accuracy 0.7692307692307693\n",
      "precision 0.7547169811320755\n",
      "recall 0.6666666666666666\n",
      "accuracy_count 110\n",
      "\n",
      "Classification:  survived - quadratic_discriminant_analysis \n",
      "\n",
      "Training data\n",
      "accuracy 0.8031634446397188\n",
      "precision 0.7934272300469484\n",
      "recall 0.7130801687763713\n",
      "accuracy_count 457\n",
      "\n",
      "Test data\n",
      "accuracy 0.7902097902097902\n",
      "precision 0.6981132075471698\n",
      "recall 0.7254901960784313\n",
      "accuracy_count 113\n",
      "\n",
      "Classification:  survived - sgd \n",
      "\n",
      "Training data\n",
      "accuracy 0.6731107205623902\n",
      "precision 0.5502793296089385\n",
      "recall 0.8873873873873874\n",
      "accuracy_count 383\n",
      "\n",
      "Test data\n",
      "accuracy 0.6643356643356644\n",
      "precision 0.5882352941176471\n",
      "recall 0.9090909090909091\n",
      "accuracy_count 95\n",
      "\n",
      "Classification:  survived - svm \n",
      "\n",
      "Training data\n",
      "accuracy 0.8014059753954306\n",
      "precision 0.7692307692307693\n",
      "recall 0.7111111111111111\n",
      "accuracy_count 456\n",
      "\n",
      "Test data\n",
      "accuracy 0.7832167832167832\n",
      "precision 0.8478260869565217\n",
      "recall 0.6190476190476191\n",
      "accuracy_count 112\n",
      "\n",
      "Classification:  survived - knn \n",
      "\n",
      "Training data\n",
      "accuracy 0.6731107205623902\n",
      "precision 0.7340425531914894\n",
      "recall 0.3\n",
      "accuracy_count 383\n",
      "\n",
      "Test data\n",
      "accuracy 0.6573426573426573\n",
      "precision 0.6666666666666666\n",
      "recall 0.3103448275862069\n",
      "accuracy_count 94\n",
      "\n",
      "Classification:  survived - radius nn \n",
      "\n",
      "Training data\n",
      "accuracy 0.6625659050966608\n",
      "precision 0.7272727272727273\n",
      "recall 0.3037974683544304\n",
      "accuracy_count 377\n",
      "\n",
      "Test data\n",
      "accuracy 0.7062937062937062\n",
      "precision 0.6956521739130435\n",
      "recall 0.3137254901960784\n",
      "accuracy_count 101\n",
      "\n",
      "Classification:  survived - decision tree \n",
      "\n",
      "Training data\n",
      "accuracy 0.984182776801406\n",
      "precision 1.0\n",
      "recall 0.9608695652173913\n",
      "accuracy_count 560\n",
      "\n",
      "Test data\n",
      "accuracy 0.7202797202797203\n",
      "precision 0.640625\n",
      "recall 0.7068965517241379\n",
      "accuracy_count 103\n",
      "\n"
     ]
    }
   ],
   "source": [
    "result_dict['survived - decision tree'] = build_model(decision_tree_fn, 'Survived', FEATURES, titanic_df)\n",
    "compare_results()"
   ],
   "metadata": {
    "collapsed": false
   }
  },
  {
   "cell_type": "code",
   "execution_count": 34,
   "outputs": [],
   "source": [
    "def naive_bayes_fn(x_train, y_train, priors=None):\n",
    "    model = GaussianNB(priors=priors)\n",
    "    model.fit(x_train, y_train)\n",
    "    return model"
   ],
   "metadata": {
    "collapsed": false
   }
  },
  {
   "cell_type": "code",
   "execution_count": 35,
   "outputs": [
    {
     "name": "stdout",
     "output_type": "stream",
     "text": [
      "Classification:  survived - logistic \n",
      "\n",
      "Training data\n",
      "accuracy 0.7996485061511424\n",
      "precision 0.7828282828282829\n",
      "recall 0.6858407079646017\n",
      "accuracy_count 455\n",
      "\n",
      "Test data\n",
      "accuracy 0.7552447552447552\n",
      "precision 0.7755102040816326\n",
      "recall 0.6129032258064516\n",
      "accuracy_count 108\n",
      "\n",
      "Classification:  survived - linear_discriminant_analysis \n",
      "\n",
      "Training data\n",
      "accuracy 0.804920913884007\n",
      "precision 0.7746478873239436\n",
      "recall 0.7236842105263158\n",
      "accuracy_count 458\n",
      "\n",
      "Test data\n",
      "accuracy 0.7692307692307693\n",
      "precision 0.7547169811320755\n",
      "recall 0.6666666666666666\n",
      "accuracy_count 110\n",
      "\n",
      "Classification:  survived - quadratic_discriminant_analysis \n",
      "\n",
      "Training data\n",
      "accuracy 0.8031634446397188\n",
      "precision 0.7934272300469484\n",
      "recall 0.7130801687763713\n",
      "accuracy_count 457\n",
      "\n",
      "Test data\n",
      "accuracy 0.7902097902097902\n",
      "precision 0.6981132075471698\n",
      "recall 0.7254901960784313\n",
      "accuracy_count 113\n",
      "\n",
      "Classification:  survived - sgd \n",
      "\n",
      "Training data\n",
      "accuracy 0.6731107205623902\n",
      "precision 0.5502793296089385\n",
      "recall 0.8873873873873874\n",
      "accuracy_count 383\n",
      "\n",
      "Test data\n",
      "accuracy 0.6643356643356644\n",
      "precision 0.5882352941176471\n",
      "recall 0.9090909090909091\n",
      "accuracy_count 95\n",
      "\n",
      "Classification:  survived - svm \n",
      "\n",
      "Training data\n",
      "accuracy 0.8014059753954306\n",
      "precision 0.7692307692307693\n",
      "recall 0.7111111111111111\n",
      "accuracy_count 456\n",
      "\n",
      "Test data\n",
      "accuracy 0.7832167832167832\n",
      "precision 0.8478260869565217\n",
      "recall 0.6190476190476191\n",
      "accuracy_count 112\n",
      "\n",
      "Classification:  survived - knn \n",
      "\n",
      "Training data\n",
      "accuracy 0.6731107205623902\n",
      "precision 0.7340425531914894\n",
      "recall 0.3\n",
      "accuracy_count 383\n",
      "\n",
      "Test data\n",
      "accuracy 0.6573426573426573\n",
      "precision 0.6666666666666666\n",
      "recall 0.3103448275862069\n",
      "accuracy_count 94\n",
      "\n",
      "Classification:  survived - radius nn \n",
      "\n",
      "Training data\n",
      "accuracy 0.6625659050966608\n",
      "precision 0.7272727272727273\n",
      "recall 0.3037974683544304\n",
      "accuracy_count 377\n",
      "\n",
      "Test data\n",
      "accuracy 0.7062937062937062\n",
      "precision 0.6956521739130435\n",
      "recall 0.3137254901960784\n",
      "accuracy_count 101\n",
      "\n",
      "Classification:  survived - decision tree \n",
      "\n",
      "Training data\n",
      "accuracy 0.984182776801406\n",
      "precision 1.0\n",
      "recall 0.9608695652173913\n",
      "accuracy_count 560\n",
      "\n",
      "Test data\n",
      "accuracy 0.7202797202797203\n",
      "precision 0.640625\n",
      "recall 0.7068965517241379\n",
      "accuracy_count 103\n",
      "\n",
      "Classification:  survived - naive bayes \n",
      "\n",
      "Training data\n",
      "accuracy 0.7855887521968365\n",
      "precision 0.7323943661971831\n",
      "recall 0.7058823529411765\n",
      "accuracy_count 447\n",
      "\n",
      "Test data\n",
      "accuracy 0.7132867132867133\n",
      "precision 0.7407407407407407\n",
      "recall 0.5970149253731343\n",
      "accuracy_count 102\n",
      "\n"
     ]
    }
   ],
   "source": [
    "result_dict['survived - naive bayes'] = build_model(naive_bayes_fn, 'Survived', FEATURES, titanic_df)\n",
    "compare_results()"
   ],
   "metadata": {
    "collapsed": false
   }
  }
 ],
 "metadata": {
  "kernelspec": {
   "display_name": "Python 3",
   "language": "python",
   "name": "python3"
  },
  "language_info": {
   "codemirror_mode": {
    "name": "ipython",
    "version": 2
   },
   "file_extension": ".py",
   "mimetype": "text/x-python",
   "name": "python",
   "nbconvert_exporter": "python",
   "pygments_lexer": "ipython2",
   "version": "2.7.6"
  }
 },
 "nbformat": 4,
 "nbformat_minor": 0
}
