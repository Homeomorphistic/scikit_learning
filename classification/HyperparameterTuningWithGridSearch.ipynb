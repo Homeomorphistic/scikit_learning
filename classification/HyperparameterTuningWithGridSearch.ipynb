{
 "cells": [
  {
   "cell_type": "code",
   "execution_count": 4,
   "metadata": {
    "collapsed": true
   },
   "outputs": [],
   "source": [
    "import pandas as pd\n",
    "import numpy as np\n",
    "\n",
    "from sklearn.model_selection import train_test_split\n",
    "from sklearn.metrics import accuracy_score, precision_score, recall_score\n",
    "\n",
    "from sklearn.linear_model import LogisticRegression\n",
    "from sklearn.tree import DecisionTreeClassifier"
   ]
  },
  {
   "cell_type": "code",
   "execution_count": 5,
   "outputs": [],
   "source": [
    "titanic_df = pd.read_csv('datasets/titanic_processed.csv')\n",
    "X = titanic_df.drop('Survived', axis=1)\n",
    "Y = titanic_df['Survived']\n",
    "\n",
    "x_train, x_test, y_train, y_test = train_test_split(X, Y,  test_size=0.2)"
   ],
   "metadata": {
    "collapsed": false
   }
  },
  {
   "cell_type": "code",
   "execution_count": 6,
   "outputs": [],
   "source": [
    "def summarize_classification(y_test, y_pred):\n",
    "    acc = accuracy_score(y_test, y_pred, normalize=True)\n",
    "    num_acc = accuracy_score(y_test, y_pred, normalize=False)\n",
    "\n",
    "    prec = precision_score(y_test, y_pred)\n",
    "    recall = recall_score(y_test, y_pred)\n",
    "\n",
    "    return {'accuracy': acc, 'precision': prec, 'recall': recall, 'accuracy_count': num_acc}"
   ],
   "metadata": {
    "collapsed": false
   }
  },
  {
   "cell_type": "code",
   "execution_count": 8,
   "outputs": [
    {
     "data": {
      "text/plain": "{'max_depth': 4}"
     },
     "execution_count": 8,
     "metadata": {},
     "output_type": "execute_result"
    }
   ],
   "source": [
    "from sklearn.model_selection import GridSearchCV\n",
    "\n",
    "parameters = {'max_depth': [2, 4, 5, 7, 9, 10]}\n",
    "grid_search = GridSearchCV(DecisionTreeClassifier(), parameters, cv=3, return_train_score=True)\n",
    "grid_search.fit(x_train, y_train)\n",
    "\n",
    "grid_search.best_params_"
   ],
   "metadata": {
    "collapsed": false
   }
  },
  {
   "cell_type": "code",
   "execution_count": 9,
   "outputs": [
    {
     "name": "stdout",
     "output_type": "stream",
     "text": [
      "Paramaters:  {'max_depth': 2}\n",
      "Mean test score:  0.785602896129212\n",
      "Rank::  2\n",
      "Paramaters:  {'max_depth': 4}\n",
      "Mean test score:  0.7873108697670101\n",
      "Rank::  1\n",
      "Paramaters:  {'max_depth': 5}\n",
      "Mean test score:  0.7785203750116031\n",
      "Rank::  5\n",
      "Paramaters:  {'max_depth': 7}\n",
      "Mean test score:  0.780293325907361\n",
      "Rank::  4\n",
      "Paramaters:  {'max_depth': 9}\n",
      "Mean test score:  0.7820198644760047\n",
      "Rank::  3\n",
      "Paramaters:  {'max_depth': 10}\n",
      "Mean test score:  0.7697298802561962\n",
      "Rank::  6\n"
     ]
    }
   ],
   "source": [
    "for i in range(6):\n",
    "    print('Paramaters: ', grid_search.cv_results_['params'][i])\n",
    "    print('Mean test score: ', grid_search.cv_results_['mean_test_score'][i])\n",
    "    print('Rank:: ', grid_search.cv_results_['rank_test_score'][i])"
   ],
   "metadata": {
    "collapsed": false
   }
  },
  {
   "cell_type": "code",
   "execution_count": 15,
   "outputs": [
    {
     "data": {
      "text/plain": "{'C': 5, 'penalty': 'l1'}"
     },
     "execution_count": 15,
     "metadata": {},
     "output_type": "execute_result"
    }
   ],
   "source": [
    "parameters = {'penalty': ['l1', 'l2'], 'C': [0.1, .4, .8, 1, 2, 5]}\n",
    "grid_search = GridSearchCV(LogisticRegression(solver='liblinear'), parameters, cv=3, return_train_score=True)\n",
    "grid_search.fit(x_train, y_train)\n",
    "\n",
    "grid_search.best_params_"
   ],
   "metadata": {
    "collapsed": false
   }
  },
  {
   "cell_type": "code",
   "execution_count": 16,
   "outputs": [
    {
     "name": "stdout",
     "output_type": "stream",
     "text": [
      "Paramaters:  {'C': 0.1, 'penalty': 'l1'}\n",
      "Mean test score:  0.7803118908382066\n",
      "Rank::  6\n",
      "Paramaters:  {'C': 0.1, 'penalty': 'l2'}\n",
      "Mean test score:  0.7767752715121136\n",
      "Rank::  9\n",
      "Paramaters:  {'C': 0.4, 'penalty': 'l1'}\n",
      "Mean test score:  0.776803118908382\n",
      "Rank::  8\n",
      "Paramaters:  {'C': 0.4, 'penalty': 'l2'}\n",
      "Mean test score:  0.7732850645131347\n",
      "Rank::  12\n",
      "Paramaters:  {'C': 0.8, 'penalty': 'l1'}\n",
      "Mean test score:  0.7873479996287015\n",
      "Rank::  2\n",
      "Paramaters:  {'C': 0.8, 'penalty': 'l2'}\n",
      "Mean test score:  0.7732943469785575\n",
      "Rank::  11\n",
      "Paramaters:  {'C': 1, 'penalty': 'l1'}\n",
      "Mean test score:  0.7838392276988769\n",
      "Rank::  5\n",
      "Paramaters:  {'C': 1, 'penalty': 'l2'}\n",
      "Mean test score:  0.7750580154088927\n",
      "Rank::  10\n",
      "Paramaters:  {'C': 2, 'penalty': 'l1'}\n",
      "Mean test score:  0.785602896129212\n",
      "Rank::  3\n",
      "Paramaters:  {'C': 2, 'penalty': 'l2'}\n",
      "Mean test score:  0.77857606980414\n",
      "Rank::  7\n",
      "Paramaters:  {'C': 5, 'penalty': 'l1'}\n",
      "Mean test score:  0.7891209505244593\n",
      "Rank::  1\n",
      "Paramaters:  {'C': 5, 'penalty': 'l2'}\n",
      "Mean test score:  0.785602896129212\n",
      "Rank::  3\n"
     ]
    }
   ],
   "source": [
    "for i in range(12):\n",
    "    print('Paramaters: ', grid_search.cv_results_['params'][i])\n",
    "    print('Mean test score: ', grid_search.cv_results_['mean_test_score'][i])\n",
    "    print('Rank:: ', grid_search.cv_results_['rank_test_score'][i])"
   ],
   "metadata": {
    "collapsed": false
   }
  }
 ],
 "metadata": {
  "kernelspec": {
   "display_name": "Python 3",
   "language": "python",
   "name": "python3"
  },
  "language_info": {
   "codemirror_mode": {
    "name": "ipython",
    "version": 2
   },
   "file_extension": ".py",
   "mimetype": "text/x-python",
   "name": "python",
   "nbconvert_exporter": "python",
   "pygments_lexer": "ipython2",
   "version": "2.7.6"
  }
 },
 "nbformat": 4,
 "nbformat_minor": 0
}
